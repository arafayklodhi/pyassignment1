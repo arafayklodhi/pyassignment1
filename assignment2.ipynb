{
 "cells": [
  {
   "cell_type": "code",
   "execution_count": 1,
   "metadata": {},
   "outputs": [
    {
     "name": "stdout",
     "output_type": "stream",
     "text": [
      "Enter your name: rafay\n",
      "enter you english numbers: 58\n",
      "enter you urdu numbers: 45\n",
      "enter you science numbers: 88\n",
      "enter you Maths numbers: 54\n",
      "enter you sst numbers: 58\n",
      "Mr rafay your total number is  303 your percentage is  60.6\n",
      "you secured B grade\n"
     ]
    }
   ],
   "source": [
    "n=input(\"Enter your name: \")\n",
    "s1=int(input(\"enter you english numbers: \"))\n",
    "s2=int(input(\"enter you urdu numbers: \"))\n",
    "s3=int(input(\"enter you science numbers: \"))\n",
    "s4=int(input(\"enter you Maths numbers: \"))\n",
    "s5=int(input(\"enter you sst numbers: \"))\n",
    "total=s1+s2+s3+s4+s5\n",
    "per=(total/500*100)\n",
    "\n",
    "print(\"Mr\" ,n ,\"your total number is \",total , \"your percentage is \", per)\n",
    "if per>=80:\n",
    "    print(\"you secured A1 grade\")\n",
    "elif per<=80 and per>=70:\n",
    "    print(\"you secured A grade\")\n",
    "elif per<=70 and per>=60:\n",
    "    print(\"you secured B grade\")\n",
    "elif per<=60 and per>=50:\n",
    "    print(\"you secured C grade\")\n",
    "elif per<=50: \n",
    "    print(\"your are failed\")\n",
    "else:\n",
    "    prnt(\"enter correct number\")"
   ]
  },
  {
   "cell_type": "code",
   "execution_count": 2,
   "metadata": {},
   "outputs": [
    {
     "name": "stdout",
     "output_type": "stream",
     "text": [
      "Enter num:\t3\n",
      "odd number\n"
     ]
    }
   ],
   "source": [
    "n=int(input(\"Enter num:\\t\"))\n",
    "if (n%2)==0:\n",
    "    print(\"Even Number\")\n",
    "else:\n",
    "    print(\"odd number\")\n"
   ]
  },
  {
   "cell_type": "code",
   "execution_count": 3,
   "metadata": {},
   "outputs": [
    {
     "name": "stdout",
     "output_type": "stream",
     "text": [
      "4\n"
     ]
    }
   ],
   "source": [
    "l1=[\"asd\",\"asd\",\"asd\",\"asd\"]\n",
    "print(len(l1))\n"
   ]
  },
  {
   "cell_type": "code",
   "execution_count": 4,
   "metadata": {},
   "outputs": [
    {
     "name": "stdout",
     "output_type": "stream",
     "text": [
      "20\n"
     ]
    }
   ],
   "source": [
    "l1=[1,5,4,5,5]\n",
    "print(sum(l1))"
   ]
  },
  {
   "cell_type": "code",
   "execution_count": 5,
   "metadata": {},
   "outputs": [
    {
     "name": "stdout",
     "output_type": "stream",
     "text": [
      "80\n"
     ]
    }
   ],
   "source": [
    "l1=[1,5,3,80,56]\n",
    "print(max(l1))"
   ]
  },
  {
   "cell_type": "code",
   "execution_count": 7,
   "metadata": {},
   "outputs": [
    {
     "name": "stdout",
     "output_type": "stream",
     "text": [
      "[1, 1, 2, 3, 5]\n"
     ]
    }
   ],
   "source": [
    "l1=[1, 1, 2, 3, 5, 8, 13, 21, 34, 55, 89]\n",
    "print(l1[:5])"
   ]
  },
  {
   "cell_type": "code",
   "execution_count": null,
   "metadata": {},
   "outputs": [],
   "source": []
  }
 ],
 "metadata": {
  "kernelspec": {
   "display_name": "Python 3",
   "language": "python",
   "name": "python3"
  },
  "language_info": {
   "codemirror_mode": {
    "name": "ipython",
    "version": 3
   },
   "file_extension": ".py",
   "mimetype": "text/x-python",
   "name": "python",
   "nbconvert_exporter": "python",
   "pygments_lexer": "ipython3",
   "version": "3.7.4"
  }
 },
 "nbformat": 4,
 "nbformat_minor": 2
}
